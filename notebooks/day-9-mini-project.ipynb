{
 "cells": [
  {
   "cell_type": "markdown",
   "id": "f361f449-e23d-4668-acfc-926d85eb6407",
   "metadata": {},
   "source": [
    "# Day 5 Mini Project I"
   ]
  },
  {
   "cell_type": "markdown",
   "id": "31ad0574-deba-4bee-af7d-0cab2851da5d",
   "metadata": {},
   "source": [
    "## Part I"
   ]
  },
  {
   "cell_type": "markdown",
   "id": "e895f62b-0355-41d7-8668-21388fae858c",
   "metadata": {},
   "source": [
    "#### 1. Calculating the Fibonacci sequence\n",
    "\n",
    "The Fibonacci sequence is defined by the recursive sequence:\n",
    "\n",
    "$$ F(n) = F(n-1) + F(n-2) $$\n",
    "\n",
    "With $ F(0) = 0 $, $ F(1) = 1 $ and $ n > 2 $.\n",
    "\n",
    "Write a program which calculates the $k^{th}$ Fibonacci number by recursively evaluating the sequence above."
   ]
  },
  {
   "cell_type": "code",
   "execution_count": null,
   "id": "cd9ae0b9-d29c-497c-a9cb-b7998de34b3f",
   "metadata": {},
   "outputs": [],
   "source": [
    "//// fib.c\n",
    "\n",
    "int main(void) {\n",
    "    return 0;\n",
    "}"
   ]
  },
  {
   "cell_type": "markdown",
   "id": "4d97781c-41c7-41ba-bc14-66d204a6546a",
   "metadata": {},
   "source": [
    "#### 2. Golden ratio approximation\n",
    "\n",
    "The golden ratio is the irrational constant with the value:\n",
    "\n",
    "\n",
    "$$ \\varphi = \\frac{1 + \\sqrt{5}}{2} \\approx 1.618033988749 $$\n",
    "\n",
    "It can be expressed as an infinite continued fraction:\n",
    "\n",
    "$$ \\varphi = 1 + \\frac{1}{1 + \\frac{1}{1 + \\frac{1}{1 + \\frac{1}{\\ddots}}}} $$\n",
    "\n",
    "Write a program which approximates $ \\varphi $ by recursively evaluating the continued fraction, with a starting guess of `1.0`. Your program should approximate $ \\varphi $ to a precision of 1 part in $10^{12}$. How many recursive calls does this require?"
   ]
  },
  {
   "cell_type": "code",
   "execution_count": null,
   "id": "45fbb1a2-941a-4ef6-b985-5f3c8ef68997",
   "metadata": {},
   "outputs": [],
   "source": [
    "//// phi.c\n",
    "\n",
    "int main(void) {\n",
    "    return 0;\n",
    "}"
   ]
  },
  {
   "cell_type": "markdown",
   "id": "3e6de040-3c34-4d39-8e51-eaa8723ef04f",
   "metadata": {},
   "source": [
    "## Part II"
   ]
  },
  {
   "cell_type": "markdown",
   "id": "65fb329b-a98b-49c1-b7c2-c778d41ccda9",
   "metadata": {},
   "source": [
    "Write a function to concatenate an array of strings together into a single null-terminated string, with the individual sub-strings separated by a given character. The function should have the signature `char *join_strings(const char **strings, int num_strings, char sep)`. It should return the address of the start of the concatenated strings. The parameters are:\n",
    "\n",
    "- `strings` is an array of pointers to `const char` (i.e. an  array of constant strings) to be concatenated together.\n",
    "- `num_strings` is the number of entries in `strings`.\n",
    "- `sep` is the separator to use between successive strings in the result. If `sep` is `'\\0'`, no separator should be added.\n",
    "\n",
    "For example, given the input strings `\"Foo\"`,  `\"Bar\"` and  `\"Baz\"` and the separator `':'` your function should return the string `\"Foo:Bar:Baz\"`."
   ]
  },
  {
   "cell_type": "code",
   "execution_count": null,
   "id": "2a69a835-e846-4677-b331-a581b9896268",
   "metadata": {},
   "outputs": [],
   "source": [
    "//// join_strings.c\n",
    "#include <stdio.h>\n",
    "\n",
    "int main(void) {\n",
    "    return 0;\n",
    "}"
   ]
  }
 ],
 "metadata": {
  "kernelspec": {
   "display_name": "Auto-compile C/C++ (gcc)",
   "language": "",
   "name": "autocompile-gcc"
  },
  "language_info": {
   "codemirror_mode": "text/x-csrc",
   "name": "c"
  }
 },
 "nbformat": 4,
 "nbformat_minor": 5
}
