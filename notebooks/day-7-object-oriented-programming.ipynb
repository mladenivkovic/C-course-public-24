{
 "cells": [
  {
   "cell_type": "markdown",
   "metadata": {},
   "source": [
    "# Day 8: Object oriented programming"
   ]
  },
  {
   "cell_type": "markdown",
   "metadata": {},
   "source": [
    "### Topics\n",
    "\n",
    "- encapsulation\n",
    "- static polymorphism\n",
    "- composition\n",
    "- dynamic polymorphism\n",
    "- compiler complaints"
   ]
  },
  {
   "cell_type": "markdown",
   "metadata": {},
   "source": [
    "**1. Encapsulation**\n",
    "\n",
    "a) Write a class `VectorR3` with member variables `x`, `y`, and `z` to represent a vector in three-dimensional space.\n",
    "\n",
    "b) Use access specifiers to ensure that member variables can only be read and modified via setters and getters, and implement the corresponding methods.\n",
    "\n",
    "c) Overload the stream operator to print `VectorR3` instances as `(x, y, z)`.\n",
    "\n",
    "d) Overload the `+` operator for vector addition.\n",
    "\n",
    "e) Test all implemented functionalities."
   ]
  },
  {
   "cell_type": "code",
   "execution_count": null,
   "metadata": {},
   "outputs": [],
   "source": []
  },
  {
   "cell_type": "markdown",
   "metadata": {},
   "source": [
    "**2. Static Polymorphism**\n",
    "\n",
    "a) Write a class `Position` via public inheritance from `VectorR3` to describe a position in three-dimensional space.\n",
    "\n",
    "b) Add a method `distance(const Position& p2)` that returns the distance between `p2` and the `Position` object for which the method has been called (the implicit object parameter).\n",
    "\n",
    "c) Test all implemented functionalities.\n",
    "\n",
    "d) Similarly, define a class `Force` via inheritance from `VectorR3` to describe a force in three-dimensional space.\n",
    "\n",
    "e) Reason whether your class hierarchy fulfills the Liskov Principle."
   ]
  },
  {
   "cell_type": "code",
   "execution_count": null,
   "metadata": {},
   "outputs": [],
   "source": []
  },
  {
   "cell_type": "markdown",
   "metadata": {},
   "source": [
    "**3. Composition**\n",
    "\n",
    "a) Write a class `Particle` that describes a particle based on its charge and position in three-dimensional space. Make use of the `Position` class developed in Exercise 1.\n",
    "\n",
    "b) Add a method `force(const Particle& p2)` that returns the Coulomb force between `p2` and the `Particle` object for which the method has been called (the implicit object parameter). Make use of the `Force` class developed in Exercise 2 d).\n",
    "\n",
    "c) Overload the stream operator to print the position and charge of `Particle` objects.\n",
    "\n",
    "d) Test all implemented functionalities."
   ]
  },
  {
   "cell_type": "code",
   "execution_count": null,
   "metadata": {},
   "outputs": [],
   "source": []
  },
  {
   "cell_type": "markdown",
   "metadata": {},
   "source": [
    "**4. Dynamic Polymorphism**\n",
    "\n",
    "a) Define a class `Shape` that can represent plane figures exhibiting the attributes width, height, position in three-dimensional space, and color. \n",
    "\n",
    "b) Add a method `getColor(...)` that returns the color of a shape. Provide a default implementation that applies for all `Shape` objects.\n",
    "\n",
    "c) Add a method `shift(...)` that shifts the (center of an) object in x-, y-, and z-direction. Provide a default implementation that applies for all `Shape` objects.\n",
    "\n",
    "d) Add the abstract methods `area()` and `perimeter()`.\n",
    "\n",
    "e) Define the derived classes `Rectangle` and `RightTriangle`, and provide implementations for all abstract methods of `Shape`.\n",
    "\n",
    "f) Create a free-standing function that takes an array of `Shapes` and a color as input, and returns an array that contains only those shapes of the input array that exhibit the specified color.\n",
    "\n",
    "g) Test all implemented functionalities."
   ]
  },
  {
   "cell_type": "code",
   "execution_count": null,
   "metadata": {},
   "outputs": [],
   "source": []
  },
  {
   "cell_type": "markdown",
   "metadata": {},
   "source": [
    "**5. Compiler Complaints?**\n",
    "\n",
    "Reason whether or not the below code snippets are compilable. Afterwards, compile the snippets to check your reasoning.\n",
    "\n",
    "a)"
   ]
  },
  {
   "cell_type": "code",
   "execution_count": null,
   "metadata": {},
   "outputs": [],
   "source": [
    "//// complaints1.cpp\n",
    "class Foo\n",
    "{\n",
    "\tint a;\n",
    "};\n",
    "\n",
    "int main()\n",
    "{\n",
    "\tFoo foo();\n",
    "\tfoo.a;\n",
    "}"
   ]
  },
  {
   "cell_type": "markdown",
   "metadata": {},
   "source": [
    "b)"
   ]
  },
  {
   "cell_type": "code",
   "execution_count": null,
   "metadata": {},
   "outputs": [],
   "source": [
    "//// complaints2.cpp\n",
    "class Bar\n",
    "{\n",
    "\n",
    "public:\n",
    "\tvoid function(const int& value) const\n",
    "\t{\n",
    "\t\tattribute1_ = value;\n",
    "\t}\n",
    "\n",
    "private:\n",
    "\tint attribute1_;\n",
    "};\n",
    "\n",
    "int main()\n",
    "{\n",
    "\tBar bar();\n",
    "\tbar.function();\n",
    "}"
   ]
  }
 ],
 "metadata": {
  "kernelspec": {
   "display_name": "Auto-compile C/C++ (gcc)",
   "language": "",
   "name": "autocompile-gcc"
  },
  "language_info": {
   "codemirror_mode": "text/x-csrc",
   "name": "c"
  }
 },
 "nbformat": 4,
 "nbformat_minor": 4
}
