{
 "cells": [
  {
   "cell_type": "markdown",
   "metadata": {},
   "source": [
    "# Day 4 Functions and call semantics"
   ]
  },
  {
   "cell_type": "markdown",
   "metadata": {},
   "source": [
    "### Topics\n",
    "\n",
    "- functions & call semantics\n",
    "- recursion"
   ]
  },
  {
   "cell_type": "markdown",
   "metadata": {},
   "source": [
    "#### 1. Functions & call semantics"
   ]
  },
  {
   "cell_type": "markdown",
   "metadata": {},
   "source": [
    "**1.1. Call semantics**"
   ]
  },
  {
   "cell_type": "markdown",
   "metadata": {},
   "source": [
    "**1.1.a.** Run the code cell below and examine the output. Can you explain the results?\n",
    "\n",
    "Questions:\n",
    "\n",
    "- When `process` is called, where is the variable `int b` allocated? What about the variable `int a` in `main`?\n",
    "- When `b` is modified in `process`, what happens? Is the value of `a` in `main` modified? Why?\n",
    "- What are the addresses of `a` and `b`? Are they different? Why? *Hint: use `printf(\"&x=%016p\\n\", &x)` to print the address of x in hexadecimal format.*\n",
    "- What happens to variables local to `process` when the function returns?"
   ]
  },
  {
   "cell_type": "code",
   "execution_count": null,
   "metadata": {},
   "outputs": [],
   "source": [
    "//// process-value.c\n",
    "#include <stdio.h>\n",
    "\n",
    "void process(int b) {\n",
    "    printf(\"start process: b=%d\\n\", b);\n",
    "    b += 99;\n",
    "    printf(\"end process: b=%d\\n\", b);\n",
    "}\n",
    "\n",
    "int main(void) {\n",
    "    int a=5;\n",
    "    printf(\"start main: a=%d\\n\", a);\n",
    "    process(a);\n",
    "    process(++a);\n",
    "    process(a++);\n",
    "    printf(\"end main: a=%d\\n\", a);\n",
    "    return 0;\n",
    "}"
   ]
  },
  {
   "cell_type": "markdown",
   "metadata": {},
   "source": [
    "**1.1.b.** Consider the code below. What is wrong with the function `get_address`?"
   ]
  },
  {
   "cell_type": "code",
   "execution_count": null,
   "metadata": {},
   "outputs": [],
   "source": [
    "//// bad_func.c\n",
    "#include <stdio.h>\n",
    "\n",
    "int *get_address(void) {\n",
    "    int i = 42;\n",
    "    return &i;\n",
    "}\n",
    "\n",
    "int main(void) {\n",
    "    int *q = get_address();\n",
    "    printf(\"q = %016p\\n\", q);\n",
    "    printf(\"*q = %d\\n\", *q);\n",
    "    return 0;\n",
    "}"
   ]
  },
  {
   "cell_type": "markdown",
   "metadata": {},
   "source": [
    "**1.1.c.** Run the code cell below and examine the output. Can you explain the results?\n",
    "\n",
    "Questions:\n",
    "\n",
    "- What is the type of `b` in `process`? Is this type the same as or different to `a` in `main`?\n",
    "- Where is the variable `b` in `process` allocated?\n",
    "- What is the meaning of `&a` when calling `process(&a)`? How is this different from `process(a)` above?"
   ]
  },
  {
   "cell_type": "code",
   "execution_count": null,
   "metadata": {},
   "outputs": [],
   "source": [
    "//// process-pointer.c\n",
    "#include <stdio.h>\n",
    "\n",
    "void process(int *b) {\n",
    "    printf(\"start process: *b=%d\\n\", *b);\n",
    "    *b += 99;\n",
    "    printf(\"end process: *b=%d\\n\", *b);\n",
    "}\n",
    "\n",
    "int main(void) {\n",
    "    int a=5;\n",
    "    printf(\"start main: a=%d\\n\", a);\n",
    "    process(&a);\n",
    "    printf(\"end main: a=%d\\n\", a);\n",
    "    return 0;\n",
    "}"
   ]
  },
  {
   "cell_type": "markdown",
   "metadata": {},
   "source": [
    "**1.1.d.** In the lecture we saw some (not-working) code to swap two variables. Write a short C program which swaps\n",
    "two values."
   ]
  },
  {
   "cell_type": "code",
   "execution_count": null,
   "metadata": {},
   "outputs": [],
   "source": [
    "//// swap.c\n",
    "\n",
    "int main(void) {\n",
    "    int p = 0, q = 5;\n",
    "    swap(/* what are the parameters? */);\n",
    "    // p and q should be swapped here\n",
    "    return 0;\n",
    "}"
   ]
  },
  {
   "cell_type": "markdown",
   "metadata": {},
   "source": [
    "**1.2. Declaring and defining functions**"
   ]
  },
  {
   "cell_type": "markdown",
   "metadata": {},
   "source": [
    "Complete the program below, defining functions with the signatures `char *get_user_name(void)` and `int get_user_age(void)` which get the user's name and age from stdin and return the results. Test your function with a few different inputs."
   ]
  },
  {
   "cell_type": "code",
   "execution_count": null,
   "metadata": {},
   "outputs": [],
   "source": [
    "//// get-user-name.c\n",
    "#include <stdio.h>\n",
    "\n",
    "int main(void) {\n",
    "    char *name = get_user_name();\n",
    "    int age = get_user_age();\n",
    "    printf(\"user %s is %d years old\\n\", name, age);\n",
    "    return 0;\n",
    "}"
   ]
  },
  {
   "cell_type": "markdown",
   "metadata": {},
   "source": [
    "**1.3. (challenging) Returning results via pointer arguments**"
   ]
  },
  {
   "cell_type": "markdown",
   "metadata": {},
   "source": [
    "**(challenging)** In C, it is only possible to `return` one value from a function. However, if we want a function to provide multiple results we can achieve this by passing arguments as pointers instead of by value. Consider this function:\n",
    "\n",
    "```c\n",
    "void write_value(int *value) {\n",
    "    *value = 42;\n",
    "}\n",
    "```\n",
    "\n",
    "The function `write_value` accepts one `int *` and writes the value `42` into the `int` whose address is stored in `value`. It is used like so:\n",
    "\n",
    "```c\n",
    "int quantity = 0;\n",
    "write_value(&quantity); // quantity is now 42\n",
    "```\n",
    "\n",
    "When writing functions which write data out through pointer arguments, it is good practice to gracefully handle a `NULL` pointer. It is never valid to dereference a `NULL` pointer."
   ]
  },
  {
   "cell_type": "markdown",
   "metadata": {},
   "source": [
    "Complete the program below, defining a function with the signature `void get_user_name_age(char **name, int *age)` which gets the user's name and age from stdin and writes the results out to the given pointers. Test your function with a few different inputs.\n",
    "\n",
    "How could this function be made to fail? How can you guard against that?"
   ]
  },
  {
   "cell_type": "code",
   "execution_count": null,
   "metadata": {},
   "outputs": [],
   "source": [
    "//// get-user-name-age.c\n",
    "#include <stdio.h>\n",
    "\n",
    "int main(void) {\n",
    "    char *name = NULL;\n",
    "    int age = -1;\n",
    "    get_user_name_age(/* what are the parameters? */);\n",
    "    printf(\"user %s is %d years old\\n\", name, age);\n",
    "    return 0;\n",
    "}"
   ]
  },
  {
   "cell_type": "markdown",
   "metadata": {},
   "source": [
    "**1.4**"
   ]
  },
  {
   "cell_type": "markdown",
   "metadata": {},
   "source": [
    "Write a 3rd version of this program, but this time use a suitably defined `struct User` to hold a user's name and age. Define a function `struct User get_user(void)` to obtain input from the user. Define a 2nd function `void get_user_ref(struct User *user)` which writes the result out using the provided `struct User` pointer argument.\n",
    "\n",
    "What happens if an invalid pointer value is passed to `get_user_ref` at runtime? What could your program do to handle this?"
   ]
  },
  {
   "cell_type": "code",
   "execution_count": null,
   "metadata": {},
   "outputs": [],
   "source": [
    "//// get-user-name-age-struct.c\n",
    "#include <stdio.h>\n",
    "\n",
    "struct User {\n",
    "    // define me!\n",
    "};\n",
    "\n",
    "struct User get_user(void);\n",
    "void get_user_ref(struct User *user);\n",
    "\n",
    "int main(void) {\n",
    "    struct User user1 = get_user();\n",
    "    printf(\"user %s is %d years old\\n\", /* ... */);\n",
    "    return 0;\n",
    "}\n",
    "\n",
    "struct User get_user(void) {\n",
    "    // return a struct User obtained from user input\n",
    "}\n",
    "void get_user_ref(struct User *user) {\n",
    "    // return a struct User via the pointer argument\n",
    "}"
   ]
  },
  {
   "cell_type": "markdown",
   "metadata": {},
   "source": [
    "#### 2. Recursion"
   ]
  },
  {
   "cell_type": "markdown",
   "metadata": {},
   "source": [
    "A recursive function is one which calls itself. To make a function recursive, it must handle:\n",
    "\n",
    "- the base case (the computation which stops further recursion)\n",
    "- the general case (the computation expressed in terms of a smaller, recursive computation)\n",
    "\n",
    "What would be the consequence of a recursive function which had no base case?\n",
    "\n",
    "Let's explore recursion by implementing a few functions with and without recursion."
   ]
  },
  {
   "cell_type": "markdown",
   "metadata": {},
   "source": [
    "**2.1**"
   ]
  },
  {
   "cell_type": "markdown",
   "metadata": {},
   "source": [
    "In the code cell below, write a function `int sum_to(int n)` which sums all the positive integers up to `n`. Test it on a few different inputs."
   ]
  },
  {
   "cell_type": "code",
   "execution_count": null,
   "metadata": {},
   "outputs": [],
   "source": [
    "//// sum_to_n.c\n",
    "#include <stdio.h>\n",
    "\n",
    "int main(void) {\n",
    "    int n=5;\n",
    "    printf(\"sum to %d: %d\\n\", n, sum_to(n));\n",
    "    return 0;\n",
    "}"
   ]
  },
  {
   "cell_type": "markdown",
   "metadata": {},
   "source": [
    "Re-implement the function `sum_to` using recursion and check your results against the non-recursive version.\n",
    "\n",
    "What is the base case for this recursive function? What is the general case?"
   ]
  },
  {
   "cell_type": "code",
   "execution_count": null,
   "metadata": {},
   "outputs": [],
   "source": [
    "//// recursive_sum_to_n.c\n",
    "#include <stdio.h>\n",
    "\n",
    "int main(void) {\n",
    "    int n=5;\n",
    "    printf(\"sum to %d: %d\\n\", n, sum_to(n));\n",
    "    return 0;\n",
    "}"
   ]
  },
  {
   "cell_type": "markdown",
   "metadata": {},
   "source": [
    "**2.2**"
   ]
  },
  {
   "cell_type": "markdown",
   "metadata": {},
   "source": [
    "Implement a recursive function with the signature `int str_length(const char *s)`. It should return the number of characters in the string `s`, excluding the terminating null byte `'\\0'`. You can assume that the input `s` is already null-terminated.\n",
    "\n",
    "Test your function on a few string literal arguments."
   ]
  },
  {
   "cell_type": "code",
   "execution_count": null,
   "metadata": {},
   "outputs": [],
   "source": [
    "//// strlen_r.c\n",
    "#include <stdio.h>\n",
    "\n",
    "int main(void) {\n",
    "    const char *country1 = \"South Africa\";\n",
    "    const char *country2 = \"United Kingdom\";\n",
    "    const char *country3 = \"Japan\";\n",
    "    printf(\"str_length(\\\"%s\\\") = %d\\n\",country1, str_length(country1));\n",
    "    return 0;\n",
    "}"
   ]
  },
  {
   "cell_type": "markdown",
   "metadata": {},
   "source": [
    "**2.3**"
   ]
  },
  {
   "cell_type": "markdown",
   "metadata": {},
   "source": [
    "**(challenging)** Write a recursive function `int str_compare(const char *lhs, const char *rhs)` which compares the null-terminated strings `lhs` and `s2` alphabetically, returning:\n",
    "\n",
    "- `-1` if `lhs` is before `rhs` alphabetically\n",
    "- ` 0` if `lhs` and `rhs` are identical\n",
    "- `+1` if `lhs` is after `rhs` alphabetically\n",
    "\n",
    "Hints:\n",
    "\n",
    "- When does the recursion need to terminate? Is it only when the end of a string is reached?"
   ]
  },
  {
   "cell_type": "code",
   "execution_count": null,
   "metadata": {},
   "outputs": [],
   "source": [
    "//// str_compare.c\n",
    "#include <stdio.h>\n",
    "\n",
    "int str_compare(const char *lhs, const char *rhs) {\n",
    "    return 0;\n",
    "}\n",
    "\n",
    "int main(void) {\n",
    "    const char *s1 = \"Durham\";\n",
    "    const char *s2 = \"Edinburgh\";\n",
    "    const char *s3 = \"Newcastle\";\n",
    "    const char *s4 = \"Dirac\";\n",
    "    const char *s5 = \"Dirac STFC\";\n",
    "    printf(\"str_compare(\\\"%s\\\", \\\"%s\\\") is: %d\", s1, s2, str_compare(s1, s2));\n",
    "    return 0;\n",
    "}"
   ]
  }
 ],
 "metadata": {
  "kernelspec": {
   "display_name": "Autocompile (gcc)",
   "language": "",
   "name": "autocompile-gcc"
  },
  "language_info": {
   "codemirror_mode": "text/x-csrc",
   "name": "c"
  }
 },
 "nbformat": 4,
 "nbformat_minor": 4
}
