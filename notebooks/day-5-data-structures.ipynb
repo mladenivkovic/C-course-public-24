{
 "cells": [
  {
   "cell_type": "markdown",
   "id": "f677d495-dddc-4f10-9290-2588daa9b7dd",
   "metadata": {},
   "source": [
    "# Day 7 Data structures"
   ]
  },
  {
   "cell_type": "markdown",
   "id": "5871be24-899d-4a7d-9959-b93cc4ca4b48",
   "metadata": {},
   "source": [
    "### Topics\n",
    "\n",
    "- Data structures\n",
    "  - singly-linked list\n",
    "  - more advanced linked list\n",
    "  - doubly-linked list\n",
    "  - (optional) `calloc` and `realloc` implementation\n",
    "  - (optional) C++ classes"
   ]
  },
  {
   "cell_type": "markdown",
   "id": "9c405148-8108-4487-b4d7-174032b083d9",
   "metadata": {},
   "source": [
    "### 1. Singly-linked list"
   ]
  },
  {
   "cell_type": "markdown",
   "id": "969a947a-5df8-4882-b880-4a38eb6a9b8e",
   "metadata": {},
   "source": [
    "Implement a program that stores numbers in a linked list and then prints them out. The nodes of your linked list should be an appropriate struct type and should be dynamically allocated using `malloc()`. The program should let the user input numbers at runtime and should contain a function that adds nodes to the end of the list. (Note that pressing `Ctrl+D` at the terminal makes `scanf()` return EOF. In the notebook, enter \"^D\" and press return to end user input.)\n",
    "\n",
    "You might find it helpful to split your code into multiple files, including a header file for use in your `main` file, but it is up to you to choose how to organise your code."
   ]
  },
  {
   "cell_type": "markdown",
   "id": "5fe26463-864b-4dd3-9727-a638eb565a2b",
   "metadata": {},
   "source": [
    "### 2. More advanced linked list"
   ]
  },
  {
   "cell_type": "markdown",
   "id": "bb7a731a-91ac-439e-84c4-0f25ce66f4a2",
   "metadata": {},
   "source": [
    "Add functions to:\n",
    "\n",
    "- delete the last number in the list\n",
    "- add a number to the start of the list\n",
    "- search for a number in the list and return either a pointer to it or `NULL` if the number is not in the list"
   ]
  },
  {
   "cell_type": "markdown",
   "id": "f9bd45c1-9589-48fd-bed1-f24f06f4b145",
   "metadata": {},
   "source": [
    "### 3. Doubly-linked list"
   ]
  },
  {
   "cell_type": "markdown",
   "id": "97cc20c0-bbf2-4173-8c7f-fd53affc5188",
   "metadata": {},
   "source": [
    "Change your code to use a doubly-linked list. Add a function that takes a pointer to a node in the list and deletes the corresponding node from the list. Remember to `free()` the memory used by the node!"
   ]
  },
  {
   "cell_type": "markdown",
   "id": "2b9bc6ac-18dd-40e1-982e-e3b1dd6b6f5a",
   "metadata": {},
   "source": [
    "### 4. Implementing `calloc` and `realloc` (optional)"
   ]
  },
  {
   "cell_type": "markdown",
   "id": "de483989-04cf-4a94-8639-ef82aaf949f3",
   "metadata": {},
   "source": [
    "Write functions `calloc2()` and `realloc2()`, that use `malloc()` and `free()` to implement the functionality of `calloc()` and realloc(), respectively. These functions will have the following declarations:\n",
    "\n",
    "    void *calloc2(size_t nmemb, size_t size);\n",
    "    void *realloc2(void *ptr, size_t old_size, size_t new_size);\n",
    "    \n",
    "Remember that `calloc()` sets the allocated memory to zero (for this exercise, you may ignore testing for integer overflows when multiplying the arguments of `calloc()` together). When implementing the copying part of `realloc()`, recall that char is 1 byte; the C standard states that you may use `char *` pointers to\n",
    "access individual bytes of memory. For `realloc2()`, since you don’t know how large an area of memory `ptr` points to, you will need to provide the function with both the old size as well as the new size you are requesting. The real `realloc()` normally only needs the latter, as it has access to internal data structures used by `malloc()`, etc. to keep track of the former.\n",
    "\n",
    "For reference, here are the definitions of the behaviour of `calloc()` and `realloc()` that you should implement:\n",
    "\n",
    "- [calloc](https://en.cppreference.com/w/c/memory/calloc)\n",
    "- [realloc](https://en.cppreference.com/w/c/memory/realloc)"
   ]
  },
  {
   "cell_type": "markdown",
   "id": "e0400415-81a7-41af-ad5c-42feeff16264",
   "metadata": {},
   "source": [
    "### 5. C++ classes (optional)"
   ]
  },
  {
   "cell_type": "markdown",
   "id": "25d12122-642d-4594-aadb-d51cd8825ddf",
   "metadata": {},
   "source": [
    "Write a C++ class to represent a fraction. You will need to store two integer values: `numerator` and `denominator`. You will need to create a `main.cpp` to test it.\n",
    "\n",
    "Add the following functionality:\n",
    "- Constructor taking two parameters `Fraction(numerator, denominator)`\n",
    "- A copy constructor\n",
    "- An output operator (<<) and input operator (>>)\n",
    "- Operators for mathematical functions: +, -, *, /, +=, *=, -=, /=,. . .\n",
    "- Comparison Operators: ==, !=, <, >, <=, >=\n",
    "- Add a function that simplifies each fraction (i.e. the value `2/4` is simplified to `1/2`) and use it to keep the fraction in its simplest form. You will need to call this in all of your mathematical functions."
   ]
  }
 ],
 "metadata": {
  "kernelspec": {
   "display_name": "Auto-compile C/C++ (gcc)",
   "language": "",
   "name": "autocompile-gcc"
  },
  "language_info": {
   "codemirror_mode": "text/x-csrc",
   "name": "c"
  }
 },
 "nbformat": 4,
 "nbformat_minor": 5
}
