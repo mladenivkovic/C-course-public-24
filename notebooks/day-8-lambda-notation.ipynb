{
 "cells": [
  {
   "cell_type": "markdown",
   "id": "16ee5587-d8fe-42d8-ad02-581336d82612",
   "metadata": {},
   "source": [
    "# Day 9: Lambda notation"
   ]
  },
  {
   "cell_type": "markdown",
   "id": "e6aca99a-f218-431b-853b-7e456ea8a62f",
   "metadata": {},
   "source": [
    "### Topics\n",
    "\n",
    "- lambda notation\n",
    "- captureless lambdas\n",
    "- capturing lambdas"
   ]
  },
  {
   "cell_type": "markdown",
   "id": "6d28180a-8665-4707-a92a-9ea9ed58fab2",
   "metadata": {},
   "source": [
    "#### 1. Lambda notation"
   ]
  },
  {
   "cell_type": "markdown",
   "id": "0fdcb3a5-1d31-4c93-a530-44fb17eec1b3",
   "metadata": {},
   "source": [
    "A *lambda expression* is an object which is callable (just like a function or an object method) and is capable of capturing variables from the surrounding scope(s)\n",
    "\n",
    "Formally, a lambda is a [closure](https://en.wikipedia.org/wiki/Closure_(computer_programming)).\n",
    "\n",
    "If you have programmed in Python before, the concept of a lambda in C++ is very much like Python's functions and lambda expressions.\n",
    "\n",
    "The most basic lambda expression is one which does nothing:\n",
    "\n",
    "```c++\n",
    "auto f = [](){};\n",
    "```\n",
    "\n",
    "The object `f` is a lambda expression which captures no variables, accepts no arguments, does nothing when called and returns nothing. Pretty useless so far.\n",
    "\n",
    "Here is a lambda which just returns an `int`:\n",
    "\n",
    "```c++\n",
    "auto g = [](){ return 42; };\n",
    "```\n",
    "\n",
    "Notice that you don't need to state the return type of this lambda - the compiler can infer the return type for us.\n",
    "\n",
    "The `()` in the lambda expression defines the parameters of the lambda:\n",
    "\n",
    "```c++\n",
    "auto sum = [](int i, int j) { return i+j; };\n",
    "```\n",
    "\n",
    "Here, `sum` is a lambda which accepts two `int`s and returns their sum."
   ]
  },
  {
   "cell_type": "markdown",
   "id": "72dc2b02-20e0-4ad5-9252-d26f62a02091",
   "metadata": {},
   "source": [
    "**1.1. Basic lambda expressions**"
   ]
  },
  {
   "cell_type": "markdown",
   "id": "31e56adb-d423-4d49-be10-065a646ac8b9",
   "metadata": {},
   "source": [
    "Complete the code below, defining lambdas which accept two integers and return their:\n",
    "\n",
    "- sum\n",
    "- product\n",
    "- minimum\n",
    "- maximum\n",
    "\n",
    "Use these lambdas to operate on the vectors of values to find the total, product, min and max of all values in the vectors."
   ]
  },
  {
   "cell_type": "code",
   "execution_count": null,
   "id": "aec372f2-a20d-43e6-bd81-e3ed16fd33d1",
   "metadata": {},
   "outputs": [],
   "source": [
    "//// lambda.cpp\n",
    "#include <iostream>\n",
    "#include <vector>\n",
    "\n",
    "using std::cout;\n",
    "\n",
    "\n",
    "int main() {\n",
    "\n",
    "    std::vector<int> v1 = {1,2,3,4,5};\n",
    "    std::vector<int> v2 = {42, 19, -45, 0, 16};\n",
    "\n",
    "    auto sum = [](){}; // implement me!\n",
    "\n",
    "    // loop over the elements of v1\n",
    "    int total = 0;\n",
    "    for (auto k: v1) {\n",
    "        total = sum(total, k);\n",
    "    }\n",
    "    cout << total << \"\\n\";\n",
    "    \n",
    "    return 0;\n",
    "}"
   ]
  },
  {
   "cell_type": "markdown",
   "id": "e77e809a-9c3b-48cb-bf85-992bc6b9cf89",
   "metadata": {},
   "source": [
    "**1.2. More lambda expressions**"
   ]
  },
  {
   "cell_type": "markdown",
   "id": "03bb1eca-5b2f-47df-a1d7-8b1c56e86594",
   "metadata": {},
   "source": [
    "Write new versions of these lambda expressions which each accept a `std::vector<int>` and return the sum/product/min/max of the elements in the vector."
   ]
  },
  {
   "cell_type": "code",
   "execution_count": null,
   "id": "c77c019c-d1c0-4be2-bbf4-1ac54cf1ac36",
   "metadata": {},
   "outputs": [],
   "source": [
    "//// lambdas-of-vectors.cpp\n",
    "#include <iostream>\n",
    "#include <vector>\n",
    "\n",
    "using std::cout;\n",
    "\n",
    "int main() {\n",
    "\n",
    "    std::vector<int> v1 = {1,2,3,4,5};\n",
    "\n",
    "    auto sum = [](std::vector<int>& v) {}; // implement me!\n",
    "\n",
    "    cout << \"The sum of elements of v1 is \" << sum(v1) << \"\\n\";\n",
    "    \n",
    "    return 0;\n",
    "}"
   ]
  },
  {
   "cell_type": "markdown",
   "id": "52290a61-00e0-4970-9444-bd698690d3ef",
   "metadata": {},
   "source": [
    "#### 2. Captureless lambdas"
   ]
  },
  {
   "cell_type": "markdown",
   "id": "b6400bdf-2360-4b34-94bf-0024de3753ec",
   "metadata": {},
   "source": [
    "Lambdas with empty capture groups (the `[]` in the declaration) are implicitly convertible to function pointers of the same call signature. Consider this function:\n",
    "\n",
    "```c++\n",
    "void print_result(int (*f)()) {\n",
    "    cout << \"result is \" << f() << \"\\n\";\n",
    "}\n",
    "```\n",
    "\n",
    "The function `print_result` accepts one parameter `f` which is a pointer to a function that has no parameters and itself returns an int. The function `print_result` returns nothing, but prints the result of calling `f`.\n",
    "\n",
    "Below is an example using function pointers and non-capturing lambdas."
   ]
  },
  {
   "cell_type": "code",
   "execution_count": null,
   "id": "4e9ad844-5389-470f-80ff-b96210326b25",
   "metadata": {},
   "outputs": [],
   "source": [
    "//// captureless.cpp\n",
    "#include <iostream>\n",
    "\n",
    "using std::cout;\n",
    "\n",
    "void print_result(int (*f)()) {\n",
    "    cout << \"result is \" << f() << \"\\n\";\n",
    "}\n",
    "\n",
    "int f1() {\n",
    "    return 19;\n",
    "}\n",
    "\n",
    "int main(void) {\n",
    "\n",
    "    // use a function pointer\n",
    "    print_result(f1);\n",
    "\n",
    "    // use a captureless lambda\n",
    "    auto f2 = [](){ return 42; };\n",
    "    print_result(f2);\n",
    "    \n",
    "    return 0;\n",
    "}"
   ]
  },
  {
   "cell_type": "markdown",
   "id": "af60e573-228c-4b19-92e6-ce77af8ea7cf",
   "metadata": {},
   "source": [
    "Write a function `aggregate` with this signature:\n",
    "\n",
    "```c++\n",
    "int aggregate(std::vector<int> v, int start, int (*combine)(int lhs, int rhs));\n",
    "```\n",
    "\n",
    "The arguments are a `std::vector<int>`, an `int` starting value, and a pointer to a function which accepts two `int`s and returns an `int`.\n",
    "\n",
    "The function specified in the `combine` parameter shall combine it's two `int` parameters in some way e.g. their sum or product. The `aggregate` function should apply the `combine` parameter to every element in `v`, with the initial value `start`.\n",
    "\n",
    "For example, given this function:\n",
    "\n",
    "```c++\n",
    "int sum(int lhs, int rhs) { return lhs + rhs; }\n",
    "```\n",
    "\n",
    "And the vector `std::vector<int> v = {1,2,3,4,5}`, the result of calling `aggregate(v, 0, sum)` should be 15.\n",
    "\n",
    "Test your `aggregate` function with a few captureless lambdas which return the sum, product, min and max of a pair of integers."
   ]
  },
  {
   "cell_type": "markdown",
   "id": "20696ef6-d226-4320-8151-b1ce7098dc01",
   "metadata": {},
   "source": [
    "#### 3. Capturing lambdas"
   ]
  },
  {
   "cell_type": "markdown",
   "id": "04f65456-c591-431b-8c81-b0cceeb2c582",
   "metadata": {},
   "source": [
    "The real power of lambdas lies in their ability to remember or \"capture\" values from the scope in which they are created. Lambdas can capture values either by reference or by value. This lambda captures everything by reference:\n",
    "\n",
    "```c++\n",
    "auto capture_by_ref = [&](){};\n",
    "```\n",
    "\n",
    "This lambda captures everything by value:\n",
    "\n",
    "```c++\n",
    "auto capture_by_val = [=](){};\n",
    "```\n",
    "\n",
    "The capture group (in `[]`) can contain a comma-separated list of variables to capture, each with their own method of capture e.g. the capture group `[&p, v]` captures the variable `p` by reference and the variable `v` by value.\n",
    "\n",
    "Let's explore the difference with some exercises."
   ]
  },
  {
   "cell_type": "markdown",
   "id": "4bfdc403-8ec5-4c1a-9ec8-87ab8c1a752b",
   "metadata": {},
   "source": [
    "Write a program which uses capturing lambdas to print the length of a captured `std::vector<int>`, captured both by reference and by value. Your lambdas should only capture this vector, and should accept no parameters when called.\n",
    "\n",
    "Which results do you expect when calling these lambdas? Reason about the results before executing the code."
   ]
  },
  {
   "cell_type": "code",
   "execution_count": null,
   "id": "dbe4a8fc-9dcb-479b-8d7f-743da2331de6",
   "metadata": {},
   "outputs": [],
   "source": [
    "//// capturing.cpp\n",
    "#include <iostream>\n",
    "#include <vector>\n",
    "\n",
    "using std::cout;\n",
    "\n",
    "int main() {\n",
    "    \n",
    "    std::vector<int> v = {1,2,3,4,5};\n",
    "    \n",
    "    auto by_value = [](){}; // capture v by value and print its length\n",
    "    auto by_ref = [](){}; // capture v by reference and print its length\n",
    "\n",
    "    return 0;\n",
    "}"
   ]
  },
  {
   "cell_type": "markdown",
   "id": "6f31ade2-d257-4cd6-9c16-703352112313",
   "metadata": {},
   "source": [
    "After calling these lambdas once, append some more values to the vector `v` and call both lambdas again. Reason about the results before executing the code. Are the results what you expected? Can you explain the results?"
   ]
  }
 ],
 "metadata": {
  "kernelspec": {
   "display_name": "Auto-compile C/C++ (gcc)",
   "language": "",
   "name": "autocompile-gcc"
  },
  "language_info": {
   "codemirror_mode": "text/x-csrc",
   "name": "c"
  }
 },
 "nbformat": 4,
 "nbformat_minor": 5
}
