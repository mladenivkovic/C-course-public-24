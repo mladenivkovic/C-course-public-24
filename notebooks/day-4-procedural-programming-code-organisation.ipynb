{
 "cells": [
  {
   "cell_type": "markdown",
   "id": "eb763f20-40d4-47e3-933d-5de6f3ef24fa",
   "metadata": {},
   "source": [
    "# Day 6 Procedural programming and code organisation"
   ]
  },
  {
   "cell_type": "markdown",
   "id": "2f462129-027a-4b2c-833d-c1880a6dd29e",
   "metadata": {},
   "source": [
    "### Topics\n",
    "\n",
    "- Scalar product\n",
    "- Recursion\n",
    "- Libraries\n",
    "- Encapsulation **(challenging)**"
   ]
  },
  {
   "cell_type": "markdown",
   "id": "7f1fc54e-1c3b-4df8-a370-d5adc7624c91",
   "metadata": {},
   "source": [
    "#### **1. Scalar product**"
   ]
  },
  {
   "cell_type": "markdown",
   "id": "351b51db-7a98-4aa4-a770-3bede1e79b7a",
   "metadata": {},
   "source": [
    "A vector is an ordered collection of values and its dimension is the number of values it contains. In a file `scalar.c`, put a global variable with file scope `static int dim` that will keep track of what dimension vectors the program is currently using. Add a function `set_dim(int d)` to `scalar.c`, which sets `dim` to the value `d` and a function `get_dim(void)`, which returns the current value of `dim`.\n",
    "\n",
    "The scalar product of two vectors is obtained by multiplying the elements entry by entry and then summing them up e.g. `(1,2,3)*(4,5,6)=1*4+2*5+3*6=4+10+18=32`. Write a function `int scalar_product(int *v1, int *v2)` that finds the scalar product of the vectors `v1` and `v2` and returns the result.\n",
    "\n",
    "Add a `main()` function, which:\n",
    "\n",
    "1. Takes one command-line argument and sets the dimension to this value.\n",
    "2. Asks the user to type in the values of two vectors of this dimension.\n",
    "3. Uses `scalar_product()` to calculate the scalar product of the two vectors and prints this value out.\n",
    "\n",
    "The output when run should look like this:\n",
    "\n",
    "```\n",
    "$ gcc -Wall -Wextra scalar.c -o scalar\n",
    "$ ./scalar 3\n",
    "Input first vector: 1 2 3\n",
    "Input second vector: 4 5 6\n",
    "The scalar product is 32\n",
    "```\n"
   ]
  },
  {
   "cell_type": "code",
   "execution_count": null,
   "id": "d9354844-f8dd-42b5-92f2-e761b19e0671",
   "metadata": {},
   "outputs": [],
   "source": [
    "//// scalar.c\n",
    "\n",
    "int main(void) {\n",
    "    \n",
    "}"
   ]
  },
  {
   "cell_type": "markdown",
   "id": "5b932a29-fe0c-4e78-8c88-47f839a2d1a4",
   "metadata": {},
   "source": [
    "#### **2. Recursion**"
   ]
  },
  {
   "cell_type": "markdown",
   "id": "ca419f28-efeb-40be-b267-bc67f379e70c",
   "metadata": {},
   "source": [
    "Write a **forward recursive** function that calculates the factorial of an input $n$.\n",
    "\n",
    "What does the call-stack of this forward recursive function look like?"
   ]
  },
  {
   "cell_type": "code",
   "execution_count": null,
   "id": "f3b58c05-c87b-469f-b1ac-033c61e4249a",
   "metadata": {},
   "outputs": [],
   "source": [
    "//// forward.c\n",
    "\n",
    "int main(void) {\n",
    "    return 0;\n",
    "}"
   ]
  },
  {
   "cell_type": "markdown",
   "id": "0a7a81c0-09f7-4624-bff1-6cd369e158ec",
   "metadata": {},
   "source": [
    "Exercise: Write a **backward recursive** function that calculates the factorial of an input $n$.\n",
    "\n",
    "What does the call-stack of this backward recursive function look like?"
   ]
  },
  {
   "cell_type": "code",
   "execution_count": null,
   "id": "d41c65ba-1746-496c-9d98-ef0940cd7a53",
   "metadata": {},
   "outputs": [],
   "source": [
    "//// backward.c\n",
    "\n",
    "int main(void) {\n",
    "    return 0;\n",
    "}"
   ]
  },
  {
   "cell_type": "markdown",
   "id": "0b6094e1",
   "metadata": {},
   "source": [
    "#### **3. Libraries**"
   ]
  },
  {
   "cell_type": "markdown",
   "id": "c0e11fed-5a13-4273-a7ab-3aba2765e569",
   "metadata": {},
   "source": [
    "Take your code from `scalar.c` and move the `main()` function to a new file `main.c`. Move the implementations of `set_dim(int d)`, `get_dim(void)` and `scalar_product(int *v1, int *v2)` to `scalar-lib.c`. Create a `scalar.h` file and add suitable `#include`s so that `main()` can call the functions in `scalar-lib.c`. If you compile with:\n",
    "\n",
    "    gcc -Wall -Wextra main.c scalar-lib.c -o main\n",
    "    \n",
    "then running `./main` should work as before."
   ]
  },
  {
   "cell_type": "code",
   "execution_count": null,
   "id": "862219ae-28c7-4189-ab7c-b98bfe68a802",
   "metadata": {},
   "outputs": [],
   "source": [
    "//// scalar.h"
   ]
  },
  {
   "cell_type": "code",
   "execution_count": null,
   "id": "64592cd3-4586-4d81-8020-0daeddbd17cf",
   "metadata": {},
   "outputs": [],
   "source": [
    "//// scalar-lib.c"
   ]
  },
  {
   "cell_type": "code",
   "execution_count": null,
   "id": "4cb48565-5842-45bf-9cec-5447dd1c9bee",
   "metadata": {},
   "outputs": [],
   "source": [
    "//// main.c\n",
    "//% DEPENDS scalar-lib.c\n",
    "#include \"scalar.h\"\n",
    "\n",
    "int main(void) {\n",
    "    return 0;\n",
    "}"
   ]
  },
  {
   "cell_type": "markdown",
   "id": "b4e04122-aab0-4193-8b4b-3cf6e100da69",
   "metadata": {},
   "source": [
    "Next:\n",
    "\n",
    "1. Compile `scalar-lib.c` as a static library `libscalar.a` and compile your executable by linking to this library statically. Check that the program still works.\n",
    "2. Compile `scalar-lib.c` as a dynamic library `libscalar.so` and compile your executable by linking to this library dynamically. You should find that your program only runs if `LD_LIBRARY_PATH` has been set appropriately, or you specify `LD_PRELOAD=libscalar.so` when running your program:\n",
    "\n",
    "        LD_PRELOAD=libscalar.so ./main"
   ]
  },
  {
   "cell_type": "markdown",
   "id": "a2a75198-982c-49bd-98f0-b5cda202bfe7",
   "metadata": {},
   "source": [
    "#### **4. Encapsulation**"
   ]
  },
  {
   "cell_type": "markdown",
   "id": "f1893871",
   "metadata": {},
   "source": [
    "**(challenging)** The next example demonstrates the concept of *encapsulation* across code boundaries (i.e. between source files or libraries).\n",
    "\n",
    "A common method of encapsulation in C and C++ is to use an [opaque type](https://en.wikipedia.org/wiki/Opaque_data_type). This is a type which is *declared* in an interface to some library code (i.e. the library's header file) but is not *defined* in the interface. Instead it is *defined* in the library's source code. This means that the internal details of the type are not visible to the calling code. The calling code may only use the opaque type by declaring and handling pointers to the opaque type.\n",
    "\n",
    "An example of an opaque type from the standard libary is the `FILE` type [declared in `stdio.h`](https://en.cppreference.com/w/c/io/FILE) - users of the `FILE` type can only declare pointers to it, and must interact with it using library functions like so:\n",
    "\n",
    "```c\n",
    "// 'f' is an opaque type whose implementation I can't see\n",
    "FILE *f = NULL;\n",
    "\n",
    "// code inside the standard libary knows about the implementation\n",
    "f = fopen(\"a_file.txt\", \"r\");\n",
    "\n",
    "// this means the user doesn't need to worry about the internal details\n",
    "fclose(f);\n",
    "\n",
    "```\n",
    "\n",
    "One drawback of using opaque types is that they **must** be dynamically allocated, since the size of the type is not known to the compiler when compiling code which usus the opaque type.\n",
    "\n",
    "Write a 2nd version of your scalar product program so that the header file `vector.h` declares `struct Vec` as an opaque type. Declare the following functions in `vector.h` and define them in `vector.c`:\n",
    "\n",
    "- `struct Vec *vec_alloc(void)` to dynamically allocate and return an empty `struct Vec`,\n",
    "- `void vec_dealloc(struct Vec *v)` to de-allocate a `struct Vec` instance,\n",
    "- `void vec_init(struct Vec *v, int dim)` to initialise `v` to have dimension `dim` and populate it with `dim` values input by the user,\n",
    "- `void vec_fprint(struct Vec *v, FILE *stream)` to print a `struct Vec` to the given stream e.g. `stdout`,\n",
    "- `int vec_scalar_product(struct Vec *v1, struct Vec *v2)` to return the scalar product of the vectors `v1` and `v2`.\n",
    "\n",
    "The definition of the `Vec` struct should only appear in `vector.c`. Putting this definition in the source file instead of the header means that the internal details of the type are hidden from client code which uses `vector.h`.\n",
    "\n",
    "Use these functions in `test-vector.c` to allocate, populate and de-allocate `struct Vec` instances using user input."
   ]
  },
  {
   "cell_type": "code",
   "execution_count": null,
   "id": "ca8d7383",
   "metadata": {},
   "outputs": [],
   "source": [
    "//// vector.h\n",
    "\n",
    "struct Vec; // declare an opaque type i.e. this type exists but is not defined in this file.\n",
    "\n",
    "struct Vec *vec_alloc(void);        // dynamically allocate and return an empty `struct Vec`"
   ]
  },
  {
   "cell_type": "code",
   "execution_count": null,
   "id": "2aa6cd36",
   "metadata": {},
   "outputs": [],
   "source": [
    "//// vector.c\n",
    "#include <stdlib.h>\n",
    "#include \"vector.h\"\n",
    "\n",
    "struct Vec {\n",
    "    // this is where you actually define struct Vec.\n",
    "};\n",
    "\n",
    "struct Vec *vec_alloc(void) {\n",
    "    // dynamically allocate and return an empty `struct Vec`\n",
    "    return NULL;\n",
    "}\n"
   ]
  },
  {
   "cell_type": "code",
   "execution_count": null,
   "id": "65d60c29",
   "metadata": {},
   "outputs": [],
   "source": [
    "//// test-vector.c\n",
    "//% DEPENDS vector.o\n",
    "#include \"vector.h\"\n",
    "\n",
    "int main(void) {\n",
    "    struct Vec *v1 = vec_alloc();\n",
    "    return 0;\n",
    "}"
   ]
  }
 ],
 "metadata": {
  "kernelspec": {
   "display_name": "Autocompile (gcc)",
   "language": "",
   "name": "autocompile-gcc"
  },
  "language_info": {
   "codemirror_mode": "text/x-csrc",
   "name": "c"
  }
 },
 "nbformat": 4,
 "nbformat_minor": 5
}
